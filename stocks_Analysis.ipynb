{
  "nbformat": 4,
  "nbformat_minor": 0,
  "metadata": {
    "colab": {
      "provenance": []
    },
    "kernelspec": {
      "name": "python3",
      "display_name": "Python 3"
    },
    "language_info": {
      "name": "python"
    }
  },
  "cells": [
    {
      "cell_type": "code",
      "execution_count": null,
      "metadata": {
        "id": "kmOPOLxnucei"
      },
      "outputs": [],
      "source": [
        "# load the necessary packages\n",
        "import pandas as pd\n",
        "import numpy as np\n",
        "import matplotlib.pyplot as plt\n",
        "import statsmodels.formula.api as smf\n",
        "import statsmodels.api as sm\n",
        "\n",
        "from datetime import datetime\n",
        "from bs4 import BeautifulSoup\n",
        "from nltk.corpus import stopwords\n",
        "\n",
        "import requests\n",
        "import string\n",
        "\n",
        "import urllib.request\n",
        "\n",
        "from datetime import datetime"
      ]
    },
    {
      "cell_type": "code",
      "source": [
        "!pip install yfinance"
      ],
      "metadata": {
        "id": "nviIozZtvD_l"
      },
      "execution_count": null,
      "outputs": []
    },
    {
      "cell_type": "code",
      "source": [
        "# Install Yahoo Finance package if it's not already installed \n",
        "try:\n",
        "    import yfinance as yf\n",
        "except ImportError:\n",
        "    \n",
        "    import yfinance as yf\n",
        "\n",
        "import warnings\n",
        "warnings.filterwarnings('ignore')\n",
        "\n",
        "# this code is to be able to see the plot in the Jupyter notebook\n",
        "%matplotlib inline"
      ],
      "metadata": {
        "id": "VgCh-WjVuyx1"
      },
      "execution_count": null,
      "outputs": []
    },
    {
      "cell_type": "code",
      "source": [
        "#Question 1\n",
        "# We chose  microsoft stock\n",
        "msft = yf.download('MSFT',  start='2002-01-01',  end='2022-12-31',  progress=False)\n",
        "msft.head()"
      ],
      "metadata": {
        "id": "OI6jMW1PC6bt",
        "colab": {
          "base_uri": "https://localhost:8080/",
          "height": 238
        },
        "outputId": "04d0993a-bc87-4a58-f73d-d63163268ade"
      },
      "execution_count": null,
      "outputs": [
        {
          "output_type": "execute_result",
          "data": {
            "text/plain": [
              "                 Open       High        Low      Close  Adj Close    Volume\n",
              "Date                                                                       \n",
              "2002-01-02  33.325001  33.555000  32.755001  33.520000  20.913071  48124000\n",
              "2002-01-03  33.555000  34.625000  33.544998  34.615002  21.596239  67590800\n",
              "2002-01-04  34.625000  34.955002  34.334999  34.450001  21.493298  52731400\n",
              "2002-01-07  34.875000  35.009998  34.174999  34.279999  21.387226  58508800\n",
              "2002-01-08  34.345001  34.930000  34.000000  34.689999  21.643030  47736400"
            ],
            "text/html": [
              "\n",
              "  <div id=\"df-f1445998-6b6c-4c86-8eae-3670e0000de3\">\n",
              "    <div class=\"colab-df-container\">\n",
              "      <div>\n",
              "<style scoped>\n",
              "    .dataframe tbody tr th:only-of-type {\n",
              "        vertical-align: middle;\n",
              "    }\n",
              "\n",
              "    .dataframe tbody tr th {\n",
              "        vertical-align: top;\n",
              "    }\n",
              "\n",
              "    .dataframe thead th {\n",
              "        text-align: right;\n",
              "    }\n",
              "</style>\n",
              "<table border=\"1\" class=\"dataframe\">\n",
              "  <thead>\n",
              "    <tr style=\"text-align: right;\">\n",
              "      <th></th>\n",
              "      <th>Open</th>\n",
              "      <th>High</th>\n",
              "      <th>Low</th>\n",
              "      <th>Close</th>\n",
              "      <th>Adj Close</th>\n",
              "      <th>Volume</th>\n",
              "    </tr>\n",
              "    <tr>\n",
              "      <th>Date</th>\n",
              "      <th></th>\n",
              "      <th></th>\n",
              "      <th></th>\n",
              "      <th></th>\n",
              "      <th></th>\n",
              "      <th></th>\n",
              "    </tr>\n",
              "  </thead>\n",
              "  <tbody>\n",
              "    <tr>\n",
              "      <th>2002-01-02</th>\n",
              "      <td>33.325001</td>\n",
              "      <td>33.555000</td>\n",
              "      <td>32.755001</td>\n",
              "      <td>33.520000</td>\n",
              "      <td>20.913071</td>\n",
              "      <td>48124000</td>\n",
              "    </tr>\n",
              "    <tr>\n",
              "      <th>2002-01-03</th>\n",
              "      <td>33.555000</td>\n",
              "      <td>34.625000</td>\n",
              "      <td>33.544998</td>\n",
              "      <td>34.615002</td>\n",
              "      <td>21.596239</td>\n",
              "      <td>67590800</td>\n",
              "    </tr>\n",
              "    <tr>\n",
              "      <th>2002-01-04</th>\n",
              "      <td>34.625000</td>\n",
              "      <td>34.955002</td>\n",
              "      <td>34.334999</td>\n",
              "      <td>34.450001</td>\n",
              "      <td>21.493298</td>\n",
              "      <td>52731400</td>\n",
              "    </tr>\n",
              "    <tr>\n",
              "      <th>2002-01-07</th>\n",
              "      <td>34.875000</td>\n",
              "      <td>35.009998</td>\n",
              "      <td>34.174999</td>\n",
              "      <td>34.279999</td>\n",
              "      <td>21.387226</td>\n",
              "      <td>58508800</td>\n",
              "    </tr>\n",
              "    <tr>\n",
              "      <th>2002-01-08</th>\n",
              "      <td>34.345001</td>\n",
              "      <td>34.930000</td>\n",
              "      <td>34.000000</td>\n",
              "      <td>34.689999</td>\n",
              "      <td>21.643030</td>\n",
              "      <td>47736400</td>\n",
              "    </tr>\n",
              "  </tbody>\n",
              "</table>\n",
              "</div>\n",
              "      <button class=\"colab-df-convert\" onclick=\"convertToInteractive('df-f1445998-6b6c-4c86-8eae-3670e0000de3')\"\n",
              "              title=\"Convert this dataframe to an interactive table.\"\n",
              "              style=\"display:none;\">\n",
              "        \n",
              "  <svg xmlns=\"http://www.w3.org/2000/svg\" height=\"24px\"viewBox=\"0 0 24 24\"\n",
              "       width=\"24px\">\n",
              "    <path d=\"M0 0h24v24H0V0z\" fill=\"none\"/>\n",
              "    <path d=\"M18.56 5.44l.94 2.06.94-2.06 2.06-.94-2.06-.94-.94-2.06-.94 2.06-2.06.94zm-11 1L8.5 8.5l.94-2.06 2.06-.94-2.06-.94L8.5 2.5l-.94 2.06-2.06.94zm10 10l.94 2.06.94-2.06 2.06-.94-2.06-.94-.94-2.06-.94 2.06-2.06.94z\"/><path d=\"M17.41 7.96l-1.37-1.37c-.4-.4-.92-.59-1.43-.59-.52 0-1.04.2-1.43.59L10.3 9.45l-7.72 7.72c-.78.78-.78 2.05 0 2.83L4 21.41c.39.39.9.59 1.41.59.51 0 1.02-.2 1.41-.59l7.78-7.78 2.81-2.81c.8-.78.8-2.07 0-2.86zM5.41 20L4 18.59l7.72-7.72 1.47 1.35L5.41 20z\"/>\n",
              "  </svg>\n",
              "      </button>\n",
              "      \n",
              "  <style>\n",
              "    .colab-df-container {\n",
              "      display:flex;\n",
              "      flex-wrap:wrap;\n",
              "      gap: 12px;\n",
              "    }\n",
              "\n",
              "    .colab-df-convert {\n",
              "      background-color: #E8F0FE;\n",
              "      border: none;\n",
              "      border-radius: 50%;\n",
              "      cursor: pointer;\n",
              "      display: none;\n",
              "      fill: #1967D2;\n",
              "      height: 32px;\n",
              "      padding: 0 0 0 0;\n",
              "      width: 32px;\n",
              "    }\n",
              "\n",
              "    .colab-df-convert:hover {\n",
              "      background-color: #E2EBFA;\n",
              "      box-shadow: 0px 1px 2px rgba(60, 64, 67, 0.3), 0px 1px 3px 1px rgba(60, 64, 67, 0.15);\n",
              "      fill: #174EA6;\n",
              "    }\n",
              "\n",
              "    [theme=dark] .colab-df-convert {\n",
              "      background-color: #3B4455;\n",
              "      fill: #D2E3FC;\n",
              "    }\n",
              "\n",
              "    [theme=dark] .colab-df-convert:hover {\n",
              "      background-color: #434B5C;\n",
              "      box-shadow: 0px 1px 3px 1px rgba(0, 0, 0, 0.15);\n",
              "      filter: drop-shadow(0px 1px 2px rgba(0, 0, 0, 0.3));\n",
              "      fill: #FFFFFF;\n",
              "    }\n",
              "  </style>\n",
              "\n",
              "      <script>\n",
              "        const buttonEl =\n",
              "          document.querySelector('#df-f1445998-6b6c-4c86-8eae-3670e0000de3 button.colab-df-convert');\n",
              "        buttonEl.style.display =\n",
              "          google.colab.kernel.accessAllowed ? 'block' : 'none';\n",
              "\n",
              "        async function convertToInteractive(key) {\n",
              "          const element = document.querySelector('#df-f1445998-6b6c-4c86-8eae-3670e0000de3');\n",
              "          const dataTable =\n",
              "            await google.colab.kernel.invokeFunction('convertToInteractive',\n",
              "                                                     [key], {});\n",
              "          if (!dataTable) return;\n",
              "\n",
              "          const docLinkHtml = 'Like what you see? Visit the ' +\n",
              "            '<a target=\"_blank\" href=https://colab.research.google.com/notebooks/data_table.ipynb>data table notebook</a>'\n",
              "            + ' to learn more about interactive tables.';\n",
              "          element.innerHTML = '';\n",
              "          dataTable['output_type'] = 'display_data';\n",
              "          await google.colab.output.renderOutput(dataTable, element);\n",
              "          const docLink = document.createElement('div');\n",
              "          docLink.innerHTML = docLinkHtml;\n",
              "          element.appendChild(docLink);\n",
              "        }\n",
              "      </script>\n",
              "    </div>\n",
              "  </div>\n",
              "  "
            ]
          },
          "metadata": {},
          "execution_count": 5
        }
      ]
    },
    {
      "cell_type": "code",
      "source": [
        "msft.index.names = [\"date\"] # I will rename the index \"Date\" for \"date\" so that I can merge it later with the fama-french file. # if you want to rename a columnn, do msft.rename(columns={\"old_name\":\"new_name\"})"
      ],
      "metadata": {
        "id": "Ob231QTxDGkv"
      },
      "execution_count": null,
      "outputs": []
    },
    {
      "cell_type": "code",
      "source": [],
      "metadata": {
        "id": "KML7i_FP8pXq"
      },
      "execution_count": null,
      "outputs": []
    },
    {
      "cell_type": "code",
      "source": [
        "# this gives us daily returns\n",
        "msft['ret'] = msft[['Adj Close']].pct_change()"
      ],
      "metadata": {
        "id": "HRuLb1QMDA43"
      },
      "execution_count": null,
      "outputs": []
    },
    {
      "cell_type": "code",
      "source": [
        "#monthly returns #resample the data at the monthly frequency and take the last observation each month\n",
        "msft_monthly = msft.resample(\"M\").last()[['Adj Close']]\n",
        "msft_monthly"
      ],
      "metadata": {
        "id": "fGDlxj74Eh5P"
      },
      "execution_count": null,
      "outputs": []
    },
    {
      "cell_type": "code",
      "source": [
        "# now we have monthly returns.\n",
        "msft_monthly['ret'] = msft_monthly[['Adj Close']].pct_change()\n"
      ],
      "metadata": {
        "id": "nCXyTnMyEy6X"
      },
      "execution_count": null,
      "outputs": []
    },
    {
      "cell_type": "code",
      "source": [
        "#Question 2\n",
        "\n",
        "msft_monthly['ret'].plot()"
      ],
      "metadata": {
        "id": "JNFl45YWH-dV",
        "colab": {
          "base_uri": "https://localhost:8080/",
          "height": 296
        },
        "outputId": "a19e88a0-b05a-421b-9e34-934bb3199198"
      },
      "execution_count": null,
      "outputs": [
        {
          "output_type": "execute_result",
          "data": {
            "text/plain": [
              "<AxesSubplot:xlabel='date'>"
            ]
          },
          "metadata": {},
          "execution_count": 26
        },
        {
          "output_type": "display_data",
          "data": {
            "text/plain": [
              "<Figure size 432x288 with 1 Axes>"
            ],
            "image/png": "[encoded data removed]"
          },
          "metadata": {
            "needs_background": "light"
          }
        }
      ]
    },
    {
      "cell_type": "code",
      "source": [
        "# Plot the monthly returns using matplotlib\n",
        "plt.figure(figsize=(10, 5))\n",
        "plt.plot(msft_monthly)\n",
        "plt.xlabel('Date')\n",
        "plt.ylabel('Monthly Returns')\n",
        "plt.title('Monthly Returns for ')\n",
        "plt.show()"
      ],
      "metadata": {
        "colab": {
          "base_uri": "https://localhost:8080/",
          "height": 350
        },
        "id": "0DwIGT-pnuPU",
        "outputId": "acda8a8e-ee92-4b73-e2f9-83b153c07d4c"
      },
      "execution_count": null,
      "outputs": [
        {
          "output_type": "display_data",
          "data": {
            "text/plain": [
              "<Figure size 720x360 with 1 Axes>"
            ],
            "image/png": "[encoded data removed]"
          },
          "metadata": {
            "needs_background": "light"
          }
        }
      ]
    },
    {
      "cell_type": "code",
      "source": [
        "#Question 3\n",
        "\n",
        "# first, create a lag one month return\n",
        "msft_monthly[\"ret_lag1\"] = msft_monthly[\"ret\"].shift()\n",
        "reg = smf.ols(\"ret~ret_lag1\", data=msft_monthly).fit()  # this is how you run a regression\n",
        "\n",
        "# to view the regression output such as the coefficient loadings, t-stats, p-values, $R^2$\n",
        "reg.summary()   # MSE is low, it suggests that using a one-month lag return can be a useful predictor of the next month's return"
      ],
      "metadata": {
        "id": "fjvrRmu1IpI8"
      },
      "execution_count": null,
      "outputs": []
    },
    {
      "cell_type": "code",
      "source": [
        "#Question 4\n",
        "\n",
        "# Download the Fama-French monthly market returns dataset\n",
        "import io\n",
        "from google.colab import files\n",
        "uploaded=files.upload()\n"
      ],
      "metadata": {
        "colab": {
          "base_uri": "https://localhost:8080/",
          "height": 107
        },
        "id": "8GEHila1nOBd",
        "outputId": "7dcd94d0-1076-43b1-fbb7-4e09f5886ea6"
      },
      "execution_count": null,
      "outputs": [
        {
          "output_type": "display_data",
          "data": {
            "text/plain": [
              "<IPython.core.display.HTML object>"
            ],
            "text/html": [
              "\n",
              "     <input type=\"file\" id=\"files-b07bca54-5914-4253-9080-4852d9d5bb0c\" name=\"files[]\" multiple disabled\n",
              "        style=\"border:none\" />\n",
              "     <output id=\"result-b07bca54-5914-4253-9080-4852d9d5bb0c\">\n",
              "      Upload widget is only available when the cell has been executed in the\n",
              "      current browser session. Please rerun this cell to enable.\n",
              "      </output>\n",
              "      <script>// Copyright 2017 Google LLC\n",
              "//\n",
              "// Licensed under the Apache License, Version 2.0 (the \"License\");\n",
              "// you may not use this file except in compliance with the License.\n",
              "// You may obtain a copy of the License at\n",
              "//\n",
              "//      http://www.apache.org/licenses/LICENSE-2.0\n",
              "//\n",
              "// Unless required by applicable law or agreed to in writing, software\n",
              "// distributed under the License is distributed on an \"AS IS\" BASIS,\n",
              "// WITHOUT WARRANTIES OR CONDITIONS OF ANY KIND, either express or implied.\n",
              "// See the License for the specific language governing permissions and\n",
              "// limitations under the License.\n",
              "\n",
              "/**\n",
              " * @fileoverview Helpers for google.colab Python module.\n",
              " */\n",
              "(function(scope) {\n",
              "function span(text, styleAttributes = {}) {\n",
              "  const element = document.createElement('span');\n",
              "  element.textContent = text;\n",
              "  for (const key of Object.keys(styleAttributes)) {\n",
              "    element.style[key] = styleAttributes[key];\n",
              "  }\n",
              "  return element;\n",
              "}\n",
              "\n",
              "// Max number of bytes which will be uploaded at a time.\n",
              "const MAX_PAYLOAD_SIZE = 100 * 1024;\n",
              "\n",
              "function _uploadFiles(inputId, outputId) {\n",
              "  const steps = uploadFilesStep(inputId, outputId);\n",
              "  const outputElement = document.getElementById(outputId);\n",
              "  // Cache steps on the outputElement to make it available for the next call\n",
              "  // to uploadFilesContinue from Python.\n",
              "  outputElement.steps = steps;\n",
              "\n",
              "  return _uploadFilesContinue(outputId);\n",
              "}\n",
              "\n",
              "// This is roughly an async generator (not supported in the browser yet),\n",
              "// where there are multiple asynchronous steps and the Python side is going\n",
              "// to poll for completion of each step.\n",
              "// This uses a Promise to block the python side on completion of each step,\n",
              "// then passes the result of the previous step as the input to the next step.\n",
              "function _uploadFilesContinue(outputId) {\n",
              "  const outputElement = document.getElementById(outputId);\n",
              "  const steps = outputElement.steps;\n",
              "\n",
              "  const next = steps.next(outputElement.lastPromiseValue);\n",
              "  return Promise.resolve(next.value.promise).then((value) => {\n",
              "    // Cache the last promise value to make it available to the next\n",
              "    // step of the generator.\n",
              "    outputElement.lastPromiseValue = value;\n",
              "    return next.value.response;\n",
              "  });\n",
              "}\n",
              "\n",
              "/**\n",
              " * Generator function which is called between each async step of the upload\n",
              " * process.\n",
              " * @param {string} inputId Element ID of the input file picker element.\n",
              " * @param {string} outputId Element ID of the output display.\n",
              " * @return {!Iterable<!Object>} Iterable of next steps.\n",
              " */\n",
              "function* uploadFilesStep(inputId, outputId) {\n",
              "  const inputElement = document.getElementById(inputId);\n",
              "  inputElement.disabled = false;\n",
              "\n",
              "  const outputElement = document.getElementById(outputId);\n",
              "  outputElement.innerHTML = '';\n",
              "\n",
              "  const pickedPromise = new Promise((resolve) => {\n",
              "    inputElement.addEventListener('change', (e) => {\n",
              "      resolve(e.target.files);\n",
              "    });\n",
              "  });\n",
              "\n",
              "  const cancel = document.createElement('button');\n",
              "  inputElement.parentElement.appendChild(cancel);\n",
              "  cancel.textContent = 'Cancel upload';\n",
              "  const cancelPromise = new Promise((resolve) => {\n",
              "    cancel.onclick = () => {\n",
              "      resolve(null);\n",
              "    };\n",
              "  });\n",
              "\n",
              "  // Wait for the user to pick the files.\n",
              "  const files = yield {\n",
              "    promise: Promise.race([pickedPromise, cancelPromise]),\n",
              "    response: {\n",
              "      action: 'starting',\n",
              "    }\n",
              "  };\n",
              "\n",
              "  cancel.remove();\n",
              "\n",
              "  // Disable the input element since further picks are not allowed.\n",
              "  inputElement.disabled = true;\n",
              "\n",
              "  if (!files) {\n",
              "    return {\n",
              "      response: {\n",
              "        action: 'complete',\n",
              "      }\n",
              "    };\n",
              "  }\n",
              "\n",
              "  for (const file of files) {\n",
              "    const li = document.createElement('li');\n",
              "    li.append(span(file.name, {fontWeight: 'bold'}));\n",
              "    li.append(span(\n",
              "        `(${file.type || 'n/a'}) - ${file.size} bytes, ` +\n",
              "        `last modified: ${\n",
              "            file.lastModifiedDate ? file.lastModifiedDate.toLocaleDateString() :\n",
              "                                    'n/a'} - `));\n",
              "    const percent = span('0% done');\n",
              "    li.appendChild(percent);\n",
              "\n",
              "    outputElement.appendChild(li);\n",
              "\n",
              "    const fileDataPromise = new Promise((resolve) => {\n",
              "      const reader = new FileReader();\n",
              "      reader.onload = (e) => {\n",
              "        resolve(e.target.result);\n",
              "      };\n",
              "      reader.readAsArrayBuffer(file);\n",
              "    });\n",
              "    // Wait for the data to be ready.\n",
              "    let fileData = yield {\n",
              "      promise: fileDataPromise,\n",
              "      response: {\n",
              "        action: 'continue',\n",
              "      }\n",
              "    };\n",
              "\n",
              "    // Use a chunked sending to avoid message size limits. See b/62115660.\n",
              "    let position = 0;\n",
              "    do {\n",
              "      const length = Math.min(fileData.byteLength - position, MAX_PAYLOAD_SIZE);\n",
              "      const chunk = new Uint8Array(fileData, position, length);\n",
              "      position += length;\n",
              "\n",
              "      const base64 = btoa(String.fromCharCode.apply(null, chunk));\n",
              "      yield {\n",
              "        response: {\n",
              "          action: 'append',\n",
              "          file: file.name,\n",
              "          data: base64,\n",
              "        },\n",
              "      };\n",
              "\n",
              "      let percentDone = fileData.byteLength === 0 ?\n",
              "          100 :\n",
              "          Math.round((position / fileData.byteLength) * 100);\n",
              "      percent.textContent = `${percentDone}% done`;\n",
              "\n",
              "    } while (position < fileData.byteLength);\n",
              "  }\n",
              "\n",
              "  // All done.\n",
              "  yield {\n",
              "    response: {\n",
              "      action: 'complete',\n",
              "    }\n",
              "  };\n",
              "}\n",
              "\n",
              "scope.google = scope.google || {};\n",
              "scope.google.colab = scope.google.colab || {};\n",
              "scope.google.colab._files = {\n",
              "  _uploadFiles,\n",
              "  _uploadFilesContinue,\n",
              "};\n",
              "})(self);\n",
              "</script> "
            ]
          },
          "metadata": {}
        },
        {
          "output_type": "stream",
          "name": "stdout",
          "text": [
            "Saving F-F_Research_Data_Factors.CSV to F-F_Research_Data_Factors.CSV\n",
            "Saving F-F_Research_Data_Factors_daily.CSV to F-F_Research_Data_Factors_daily.CSV\n"
          ]
        }
      ]
    },
    {
      "cell_type": "code",
      "source": [
        "#upload ff\n",
        "ff_data = pd.read_csv(io.BytesIO(uploaded['F-F_Research_Data_Factors.CSV']), skiprows=3, nrows=1124, index_col=0)\n",
        "ff_data_daily = pd.read_csv(io.BytesIO(uploaded['F-F_Research_Data_Factors_daily.CSV']), skiprows=3, nrows=1124, index_col=0)\n",
        "#ff_data.head()\n",
        "ff_data.head()"
      ],
      "metadata": {
        "id": "o5AmGsq4Jh4E"
      },
      "execution_count": null,
      "outputs": []
    },
    {
      "cell_type": "code",
      "source": [
        "# Rename the columns\n",
        "ff_data.columns = ['Market', 'SMB', 'HML', 'RF']\n",
        "ff_data"
      ],
      "metadata": {
        "id": "cjg09NvCt2S6"
      },
      "execution_count": null,
      "outputs": []
    },
    {
      "cell_type": "code",
      "source": [
        "# Convert the market returns to decimal format\n",
        "ff_data['Market'] = ff_data['Market'] / 100"
      ],
      "metadata": {
        "id": "LuFuq_TFt7Kj"
      },
      "execution_count": null,
      "outputs": []
    },
    {
      "cell_type": "code",
      "source": [
        "# Calculate monthly market returns from the Fama-French dataset\n",
        "market_returns = ff_data.loc[201802:202001, 'Market']\n"
      ],
      "metadata": {
        "id": "RpDrqNumuc2K"
      },
      "execution_count": null,
      "outputs": []
    },
    {
      "cell_type": "code",
      "source": [
        "# Compute the buy-and-hold monthly returns for the stock and the market\n",
        "msft_monthly_bh_returns = (1 + msft_monthly).cumprod()\n",
        "market_bh_returns = (1 + market_returns).cumprod()"
      ],
      "metadata": {
        "id": "Bk63sqi2vWfz"
      },
      "execution_count": null,
      "outputs": []
    },
    {
      "cell_type": "code",
      "source": [
        "# Compute the monthly abnormal returns\n",
        "abnormal_returns = msft_monthly_bh_returns - market_bh_returns\n"
      ],
      "metadata": {
        "id": "smgCcvTpvrfl"
      },
      "execution_count": null,
      "outputs": []
    },
    {
      "cell_type": "code",
      "source": [
        "#Question 5\n",
        "\n",
        "# Plot the monthly abnormal returns\n",
        "abnormal_returns.plot(figsize=(12, 6), title='Monthly Abnormal Returns for AAPL vs Market')\n",
        "plt.ylabel('Abnormal Returns')\n",
        "plt.show()"
      ],
      "metadata": {
        "id": "lapcPEN-v1Un"
      },
      "execution_count": null,
      "outputs": []
    },
    {
      "cell_type": "code",
      "source": [
        "#Question 6\n",
        "\n",
        "'''we can see that the stock's abnormal returns are mostly positive and higher than the market's abnormal returns during the period from 2018 to 2022. This indicates that the stock has outperformed the market during that time interval.'''"
      ],
      "metadata": {
        "id": "3d96oLhfxd0r"
      },
      "execution_count": null,
      "outputs": []
    },
    {
      "cell_type": "code",
      "source": [
        "#Question 7\n",
        "\n",
        "# Calculate excess returns by subtracting the risk-free rate from stock returns\n",
        "risk_free_rate = ff_data.loc[201001:202001, 'RF']\n",
        "excess_returns = msft_monthly - risk_free_rate\n",
        "\n",
        "# Calculate average excess return and standard deviation of excess returns\n",
        "avg_excess_return = excess_returns.mean()\n",
        "std_excess_return = excess_returns.std()\n",
        "\n",
        "\n",
        "# Calculate Sharpe ratio as average excess return divided by standard deviation of excess returns\n",
        "sharpe_ratio = avg_excess_return / std_excess_return\n",
        "\n",
        "print(sharpe_ratio)"
      ],
      "metadata": {
        "id": "HqU5Fj_4yDql"
      },
      "execution_count": null,
      "outputs": []
    },
    {
      "cell_type": "code",
      "source": [
        "#Question 8\n",
        "tickers = [\"MSFT\", \"AAPL\", \"AMZN\", \"IBM\", \"GOOGL\"]\n",
        "\n",
        "df = []  # we will store our data for each ticker in this \"df\" dataframe\n",
        "\n",
        "for t in tickers:\n",
        "    df_tmp = yf.download(t,  start='2010-01-01',  end='2022-12-31',  progress=False)\n",
        "    df_tmp = df_tmp[[\"Adj Close\"]].rename(columns={\"Adj Close\":t})  # rename the columns \"Adj Close\" with the ticker name\n",
        "    df.append(df_tmp)  # store the retrieved data in df\n",
        "    \n",
        "df = pd.concat(df, axis=1)  # concatenate all the retrieved data in one dataframe\n",
        "\n",
        "\n",
        "# Calculate the monthly returns for each stock\n",
        "monthly_returns = df.resample('M').ffill().pct_change()\n",
        "\n",
        "# Print the first 5 rows of the monthly returns dataframe\n",
        "print(monthly_returns.head())"
      ],
      "metadata": {
        "id": "KC4DUtjzybAF"
      },
      "execution_count": null,
      "outputs": []
    },
    {
      "cell_type": "code",
      "source": [
        "#Question 9\n",
        "\n",
        "ff_data_r = pd.read_csv(io.BytesIO(uploaded['F-F_Research_Data_Factors.CSV']))\n",
        "ff_data_r\n",
        "#msft_monthly\n",
        "ff_data_r.rename(columns={\"yyyymm\":\"date\"})\n",
        "ff_data_r.head()\n",
        "\n",
        "# running the capm regression\n",
        "\n",
        "msft_monthly = msft_monthly.merge(ff_data_r, on=\"date\")\n",
        "\n",
        "\n",
        "# compute the excess returns\n",
        "msft_monthly[\"exret\"] = msft_monthly[\"ret\"]-msft_monthly[\"RF\"]\n",
        "\n",
        "# rename the column \"Mkt-RF\" for \"exmkt\" for excess market return\n",
        "msft_monthly = msft_monthly.rename(columns={\"Mkt-RF\":\"exmkt\"})\n",
        "\n",
        "# running the CAPM regression\n",
        "reg_capm = smf.ols(\"exret~exmkt\", data=msft_monthly).fit()\n",
        "\n",
        "reg_capm.summary()\n"
      ],
      "metadata": {
        "id": "13NQJrlzIo8E"
      },
      "execution_count": null,
      "outputs": []
    },
    {
      "cell_type": "code",
      "source": [
        "# Define the list of symbols and the risk-free rate\n",
        "symbols = ['AAPL', 'MSFT', 'AMZN', 'GOOGL', 'TSLA']\n",
        "risk_free_rate = 0.03 / 12  # 3% annual risk-free rate, divided by 12 for monthly rate\n",
        "\n",
        "# Define the start and end dates for the CAPM regression\n",
        "start_date = '2010-01-01'\n",
        "end_date = '2021-12-31'\n",
        "\n",
        "# Retrieve the historical prices for each stock\n",
        "prices = yf.download(symbols, start=start_date, end=end_date)['Adj Close']\n",
        "\n",
        "# Calculate the monthly returns for each stock\n",
        "monthly_returns = prices.resample('M').ffill().pct_change()\n",
        "\n",
        "\n",
        "ff_data_r['Mkt-RF'] = ff_data_r['Mkt-RF'] / 100  # Convert percentage to decimal\n",
        "ff_data_r['Excess_Mkt'] = ff_data_r['Mkt-RF'] - risk_free_rate\n",
        "\n",
        "# Merge the monthly returns of the stocks with the excess market returns\n",
        "data = pd.merge(monthly_returns, ff_data_r[['Date', 'Excess_Mkt']], left_index=True, right_on='Date')\n",
        "\n",
        "# Calculate the excess returns for each stock\n",
        "excess_returns = data[symbols].sub(risk_free_rate)\n",
        "\n",
        "# Run the CAPM regression for each stock\n",
        "results = []\n",
        "for symbol in symbols:\n",
        "    y = excess_returns[symbol]\n",
        "    X = sm.add_constant(data['Excess_Mkt'])\n",
        "    model = sm.OLS(y, X, missing='drop')\n",
        "    results.append(model.fit())\n",
        "\n",
        "# Print the beta coefficient for each stock\n",
        "for i, symbol in enumerate(symbols):\n",
        "    print(f'{symbol}: beta = {results[i].params[\"Excess_Mkt\"]:.2f}')"
      ],
      "metadata": {
        "id": "r8rTq04cBmO3"
      },
      "execution_count": null,
      "outputs": []
    },
    {
      "cell_type": "code",
      "source": [
        "#Question 10\n",
        "\n",
        "# Run the Fama-MacBeth regression for each stock # if the beta coefficient to be statistically significant then CAPM holds\n",
        "    y = excess_returns[symbol]\n",
        "    X = sm.add_constant(data['Excess_Mkt'])\n",
        "    model = sm.FamaMacBeth(y, X, missing='drop')\n",
        "    results = model.fit()\n",
        "    print(f'{symbol}: beta = {results.params[\"Excess_Mkt\"]:.2f}, p-value = {results.pvalues[\"Excess_Mkt\"]:.4f}')\n"
      ],
      "metadata": {
        "id": "Ui9ZUD5eEN_h"
      },
      "execution_count": null,
      "outputs": []
    },
    {
      "cell_type": "code",
      "source": [
        "\n",
        "#Question 11\n",
        "#equally-weighted and value-weighted return portfolios.\n",
        "\n",
        "tickers = [\"MSFT\", \"AAPL\", \"AMZN\", \"IBM\", \"GOOGL\"]\n",
        "\n",
        "df = []  # we will store our data for each ticker in this \"df\" dataframe\n",
        "\n",
        "for t in tickers:\n",
        "    df_tmp = yf.download(t,  start='2010-01-01',  end='2022-12-31',  progress=False)\n",
        "    df_tmp = df_tmp[[\"Adj Close\"]].rename(columns={\"Adj Close\":t})  # rename the columns \"Adj Close\" with the ticker name\n",
        "    df.append(df_tmp)  # store the retrieved data in df\n",
        "    \n",
        "df = pd.concat(df, axis=1)  # concatenate all the retrieved data in one dataframe\n",
        "df.head()"
      ],
      "metadata": {
        "id": "wqBwn29SMKva"
      },
      "execution_count": null,
      "outputs": []
    },
    {
      "cell_type": "code",
      "source": [
        "\n",
        "# we will use this later, let's store the prices\n",
        "prc = df.copy()"
      ],
      "metadata": {
        "id": "mizIOZKGf0kH"
      },
      "execution_count": null,
      "outputs": []
    },
    {
      "cell_type": "code",
      "source": [
        "# get the monthly returns\n",
        "df = df.resample(\"M\").last()\n",
        "df = df.pct_change()\n",
        "#df.head()\n",
        "\n",
        "# turn the dataframe (df) with stock returns into gross returns\n",
        "df_gross = df+1\n",
        "\n",
        "# put in the first of the dataset, 0.25 everywhere\n",
        "df_gross.iloc[0] = [0.25, 0.25, 0.25, 0.25]\n",
        "\n",
        "# compute the equal-weighted returns\n",
        "df_compound = df_gross.cumprod()  # compute the cumulative returns of your invesment in each stock\n",
        "\n",
        "# now you can compute the monthly returns of your portfolio\n",
        "df_ew = df_compound.copy()\n",
        "df_ew['ret'] = df_ew[\"val\"].pct_change()"
      ],
      "metadata": {
        "id": "-2WHoyiCgVPV"
      },
      "execution_count": null,
      "outputs": []
    },
    {
      "cell_type": "code",
      "source": [
        "#Question 12\n",
        "\n",
        "# that's your total monthly returns each month!\n",
        "df_ew['ret'].plot()\n",
        "\n",
        "#### compute buy-and-hold returns for your equal-weighted portfolio\n",
        "(1+df_ew['ret']).cumprod().plot()  # cumprod is the cumulative product\n"
      ],
      "metadata": {
        "id": "gZse1vtyhgYV"
      },
      "execution_count": null,
      "outputs": []
    },
    {
      "cell_type": "code",
      "source": [
        "#Question 13\n",
        "#Event studies\n",
        "\n",
        "aapl = yf.download(t,  start='2010-01-01',  end='2022-12-31',  progress=False)\n",
        "aapl[\"ret\"] = aapl[\"Adj Close\"].pct_change()\n",
        "\n",
        "aapl.head()\n"
      ],
      "metadata": {
        "id": "QVKqw5FFotrC"
      },
      "execution_count": null,
      "outputs": []
    },
    {
      "cell_type": "code",
      "source": [
        "aapl = aapl.reset_index()\n",
        "aapl = aapl.rename(columns={\"Date\":\"date\"})\n",
        "\n"
      ],
      "metadata": {
        "id": "bx9wZzOBpPxz"
      },
      "execution_count": null,
      "outputs": []
    },
    {
      "cell_type": "code",
      "source": [
        "# because the the apple data is daily. let's load the daily fama-french data\n",
        "\n",
        "ff_data_daily.head()\n",
        "# because the data is in %, we must divide the columns by 100\n",
        "ff_data_daily[[\"Mkt-RF\", \"SMB\", \"HML\", \"RF\"]] = ff_data_daily[[\"Mkt-RF\", \"SMB\", \"HML\", \"RF\"]]/100\n",
        "ff_data_daily[\"Mkt\"] = ff_data_daily[\"Mkt-RF\"]-ff_data_daily[\"RF\"]"
      ],
      "metadata": {
        "id": "GDf8LUwMpZcJ"
      },
      "execution_count": null,
      "outputs": []
    },
    {
      "cell_type": "code",
      "source": [
        "# merge both datasets\n",
        "aapl = aapl.merge(ff_data_daily, on=['date'], how='left')\n",
        "\n",
        "aapl.head()\n",
        "# select date window before and after an earnings announcement of our choice. Let's take the earnings of Apr 28, 2021, the earnings surprise was negative, +44.84%\n",
        "aapl_short = aapl[(aapl['date'] >= \"2021-04-01\") & (aapl['date'] <= \"2021-04-30\")]\n",
        "\n",
        "aapl_short.head()\n"
      ],
      "metadata": {
        "id": "ZLI2ExFnpg3A"
      },
      "execution_count": null,
      "outputs": []
    },
    {
      "cell_type": "code",
      "source": [
        "# now, when you do an event study, you have to substract the returns for the stock minus the returns of the market. here's the way to do it:\n",
        "\n",
        "aapl_short['cumret'] = (1+aapl_short['ret']).cumprod()  # cumulative product of gross returns\n",
        "aapl_short['cummkt'] = (1+aapl_short['Mkt']).cumprod()  # cumulative product of gross returns\n",
        "\n",
        "# compute the buy-and-hold-abnormal returns\n",
        "aapl_short['bhar'] = aapl_short['cumret']-aapl_short['cummkt']"
      ],
      "metadata": {
        "id": "0e5R43DNpw2x"
      },
      "execution_count": null,
      "outputs": []
    },
    {
      "cell_type": "code",
      "source": [
        "# set dates as index\n",
        "aapl_short = aapl_short.set_index(\"date\")\n"
      ],
      "metadata": {
        "id": "TJCHOu-Xp9Sg"
      },
      "execution_count": null,
      "outputs": []
    },
    {
      "cell_type": "code",
      "source": [
        "# plotting the BHAR around the earnings announcement date\n",
        "fig = plt.figure()  # initiate the figure environment\n",
        "aapl_short['bhar'].plot(color='b', linewidth=2)\n",
        "plt.ylabel('Buy-and-hold abnormal return')\n",
        "plt.xlabel('')\n",
        "# Make sure you change the title of the figure accordingly. \n",
        "plt.title('Apple \\n Expected EPS=0.99, Actual EPS=1.40, Surprise=+41.84%')\n",
        "# This last line of code draws the vertical line in the plot\n",
        "plt.axvline(x='2021-04-28', color='k', linestyle='-.', alpha=.75)\n",
        "\n",
        "# for AAPL, on the date of the announcement, despite large surprises, the return jump was not super high... but days before the returns increased subtantially. Could it be that markets anticipated a large positive news?"
      ],
      "metadata": {
        "id": "5IecsJCcqBfw"
      },
      "execution_count": null,
      "outputs": []
    },
    {
      "cell_type": "code",
      "source": [
        "#Question 13\n",
        "\n",
        "#Sentiment Analysis\n",
        "\n",
        "# Load the Loughran and McDonald dictionnary\n",
        "lm = pd.read_excel(io.BytesIO(uploaded['LoughranMcDonald_MasterDictionary_2014.xlsx']))\n",
        "\n",
        "\n",
        "# get the lists of positive/negative words\n",
        "lmpos = list(lm[lm.Positive!=0]['Word'])\n",
        "lmneg = list(lm[lm.Negative!=0]['Word'])"
      ],
      "metadata": {
        "id": "ITGrWZgOqRb5"
      },
      "execution_count": null,
      "outputs": []
    },
    {
      "cell_type": "code",
      "source": [
        "# this section of the notebook will contains helper classes/functions\n",
        "# for web crawling\n",
        "\n",
        "from html.parser import HTMLParser\n",
        "\n",
        "class MLStripper(HTMLParser):\n",
        "    def __init__(self):\n",
        "        self.reset()\n",
        "        self.strict = False\n",
        "        self.convert_charrefs= True\n",
        "        self.fed = []\n",
        "    def handle_data(self, d):\n",
        "        self.fed.append(d)\n",
        "    def get_data(self):\n",
        "        return ''.join(self.fed)\n",
        "\n",
        "def strip_tags(html):\n",
        "    s = MLStripper()\n",
        "    s.feed(html)\n",
        "    return s.get_data()\n",
        "\n",
        "def get_article_body(article_url, body_html_element):\n",
        "    \"\"\" This is a helper function that provides us with the body of an article\n",
        "    article_url is the link to the article\n",
        "    body_html_element is where the article body is stored\n",
        "        news websites usually wrap their story's body in <p> tags which stand for paragraph\n",
        "        to find out which tag the website you chose uses, you need to inspect the page (ctrl+shift+i)\n",
        "    \"\"\"\n",
        "        \n",
        "    # get the story\n",
        "    page = requests.get(article_url)\n",
        "    soup = BeautifulSoup(page.text, 'html.parser')\n",
        "    \n",
        "    # get all the text within the html element <p>\n",
        "    # each paragraph will be an element of the returned list\n",
        "    # note that what we got here is in HTML\n",
        "    html_text = soup.find_all(body_html_element)\n",
        "    \n",
        "    # convert HTML to regular string\n",
        "    stripped_text = []\n",
        "    for t in html_text:\n",
        "        t = strip_tags(str(t))\n",
        "        stripped_text.append(t)\n",
        "    \n",
        "    return \" \".join(stripped_text)\n"
      ],
      "metadata": {
        "id": "VA8Y4lq4q2ag"
      },
      "execution_count": null,
      "outputs": []
    },
    {
      "cell_type": "code",
      "source": [
        "#Question 14\n",
        "\n",
        "# Use Yahoo finance - I chose Uber for an example and calculate the returns\n",
        "uber_returns = yf.download('UBER',  start='2019-01-01',  end='2022-02-04',  progress=False)\n",
        "uber_returns = uber_returns[['Adj Close']].pct_change().rename(columns={'Adj Close': \"Returns\"})\n",
        "\n"
      ],
      "metadata": {
        "id": "yCdJI_d5q3lh"
      },
      "execution_count": null,
      "outputs": []
    },
    {
      "cell_type": "code",
      "source": [],
      "metadata": {
        "id": "ntyouRU4MKYq"
      },
      "execution_count": null,
      "outputs": []
    },
    {
      "cell_type": "code",
      "source": [
        "#Question 15\n",
        "\n",
        "# My article of choice: 'Unfit' Uber loses London license over safety failures\n",
        "url = \"https://www.reuters.com/article/us-uber-britain-idUKKBN1XZ0VL\"\n",
        "neg_article_date = '2019-11-25'\n",
        "\n",
        "# get the body text\n",
        "article_body = get_article_body(article_url = url, body_html_element = 'p')\n",
        "\n",
        "# convert all words to lower case\n",
        "article_body = article_body.lower()\n",
        "\n",
        "# remove non-letters (i.e., $ %)\n",
        "natural_lang_data = ''.join([x for x in article_body if x in string.ascii_letters + '\\'- '])\n",
        "\n",
        "# remove stop words.\n",
        "natural_lang_data = [x for x in natural_lang_data.split() if x not in stopwords.words('english')]\n",
        "natural_lang_data.remove('-')\n",
        "\n",
        "# process the data and get the sentiment\n",
        "nwords = len(natural_lang_data) # number of words\n",
        "npos = len([i for i in natural_lang_data if i.upper() in lmpos])  # number of positive words\n",
        "nneg = len([i for i in natural_lang_data if i.upper() in lmneg])  # number of negative words\n",
        "sentiment_score = (npos - nneg) / nwords\n"
      ],
      "metadata": {
        "id": "yOQH8b4wsW-p"
      },
      "execution_count": null,
      "outputs": []
    },
    {
      "cell_type": "code",
      "source": [
        "# print sentiment score\n",
        "print(sentiment_score)"
      ],
      "metadata": {
        "id": "t61pYTdesdNx"
      },
      "execution_count": null,
      "outputs": []
    }
  ]
}